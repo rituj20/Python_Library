{
 "cells": [
  {
   "cell_type": "code",
   "execution_count": 52,
   "metadata": {},
   "outputs": [
    {
     "name": "stdout",
     "output_type": "stream",
     "text": [
      "enter a number  3\n",
      "enter a number  4\n",
      "enter a number  6\n",
      "enter a number  8\n",
      "enter a number  9\n",
      "[3, 4, 6, 8, 9]\n",
      "5\n"
     ]
    }
   ],
   "source": [
    "num_array = list ()\n",
    "for i in range(1,6):\n",
    "    num = int(input(\"enter a number  \"))\n",
    "    num_array.append(int(num))\n",
    "print(num_array)\n",
    "l = len(num_array)\n",
    "print (l)\n"
   ]
  },
  {
   "cell_type": "code",
   "execution_count": 58,
   "metadata": {},
   "outputs": [
    {
     "name": "stdout",
     "output_type": "stream",
     "text": [
      " input a number to be compared  8\n"
     ]
    }
   ],
   "source": [
    "K = int(input(\" input a number to be compared  \"))"
   ]
  },
  {
   "cell_type": "code",
   "execution_count": 59,
   "metadata": {},
   "outputs": [
    {
     "name": "stdout",
     "output_type": "stream",
     "text": [
      "yes\n"
     ]
    }
   ],
   "source": [
    "for j in range(0,5):\n",
    "    if (num_array[j]== K):\n",
    "        print (\"yes\")    \n",
    "        break;\n",
    "    if(j== l-1):\n",
    "        print(\"No\")\n",
    "   "
   ]
  },
  {
   "cell_type": "code",
   "execution_count": null,
   "metadata": {},
   "outputs": [],
   "source": []
  },
  {
   "cell_type": "code",
   "execution_count": null,
   "metadata": {},
   "outputs": [],
   "source": []
  }
 ],
 "metadata": {
  "kernelspec": {
   "display_name": "Python 3",
   "language": "python",
   "name": "python3"
  },
  "language_info": {
   "codemirror_mode": {
    "name": "ipython",
    "version": 3
   },
   "file_extension": ".py",
   "mimetype": "text/x-python",
   "name": "python",
   "nbconvert_exporter": "python",
   "pygments_lexer": "ipython3",
   "version": "3.6.5"
  }
 },
 "nbformat": 4,
 "nbformat_minor": 2
}
